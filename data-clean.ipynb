{
 "cells": [
  {
   "cell_type": "code",
   "execution_count": null,
   "id": "d8fd9357",
   "metadata": {},
   "outputs": [],
   "source": [
    "# Import libraries\n",
    "import sys, re, glob\n",
    "import numpy as np, pandas as pd\n",
    "from cleantext import clean\n",
    "from gensim.models import CoherenceModel\n",
    "from gensim.corpora import Dictionary, MmCorpus\n",
    "from gensim.utils import simple_preprocess\n",
    "from gensim.models.phrases import Phrases, Phraser\n",
    "from nltk.corpus import stopwords\n",
    "from pprint import pprint\n",
    "import gensim, spacy, logging, warnings\n",
    "import preprocessor as p\n",
    "\n",
    "# Set options for preprocessor\n",
    "p.set_options(p.OPT.URL, p.OPT.EMOJI)\n",
    "\n",
    "# Set NLTK stop words\n",
    "stop_words = stopwords.words('english')\n",
    "\n",
    "# Disable warnings\n",
    "warnings.filterwarnings(\"ignore\",category=DeprecationWarning)\n",
    "logging.basicConfig(format='%(asctime)s : %(levelname)s : %(message)s', level=logging.ERROR)\n",
    "\n",
    "# Load dataset\n",
    "df = pd.read_csv('../data/merged.csv', encoding=\"utf-8-sig\")\n",
    "df.head()"
   ]
  },
  {
   "cell_type": "code",
   "execution_count": null,
   "id": "c9dc5ddb",
   "metadata": {},
   "outputs": [],
   "source": [
    "def clean_text(row):\n",
    "    text = row['merged']\n",
    "    text = p.clean(text)\n",
    "    text = clean(text, fix_unicode=True, to_ascii=True, lower=True, no_line_breaks=True,\n",
    "                 no_urls=True, no_emails=True, no_phone_numbers=True, no_numbers=True,\n",
    "                 no_digits=True, no_currency_symbols=True, no_punct=True, lang=\"en\",\n",
    "                 replace_with_punct=\"\", replace_with_url=\"\", replace_with_email=\"\",\n",
    "                 replace_with_phone_number=\"\", replace_with_number=\"\", replace_with_digit=\"\",\n",
    "                 replace_with_currency_symbol=\"\")\n",
    "    return text\n",
    "\n",
    "df['clean'] = df.apply(clean_text, axis=1)"
   ]
  },
  {
   "cell_type": "code",
   "execution_count": null,
   "id": "236a7e2e",
   "metadata": {},
   "outputs": [],
   "source": [
    "def sent_words(sentences):\n",
    "    for sent in sentences:\n",
    "        sent = gensim.utils.simple_preprocess(str(sent), min_len=2, deacc=True) \n",
    "        yield(sent)  \n",
    "\n",
    "# Convert to list\n",
    "data = df.clean.values.tolist()\n",
    "words = list(sent_words(data))"
   ]
  },
  {
   "cell_type": "code",
   "execution_count": null,
   "id": "884f5eac",
   "metadata": {},
   "outputs": [],
   "source": [
    "# Build the bigram and trigram models\n",
    "bigram = gensim.models.Phrases(words, min_count=5, threshold=1, delimiter='_')\n",
    "trigram = gensim.models.Phrases(bigram[words], threshold=1, delimiter='_')\n",
    "bigram_mod = gensim.models.phrases.Phraser(bigram)\n",
    "trigram_mod = gensim.models.phrases.Phraser(trigram)"
   ]
  },
  {
   "cell_type": "code",
   "execution_count": null,
   "id": "4c6ebb4c",
   "metadata": {},
   "outputs": [],
   "source": [
    "def process_words(texts, stop_words=stop_words, allowed_postags=['NOUN', 'ADJ', 'VERB', 'ADV']):\n",
    "    \"\"\"Remove Stopwords, Form Bigrams, Trigrams and Lemmatization\"\"\"\n",
    "    texts = [[word for word in simple_preprocess(str(doc)) if word not in stop_words] for doc in texts]\n",
    "    texts = [bigram_mod[doc] for doc in texts]\n",
    "    texts = [trigram_mod[bigram_mod[doc]] for doc in texts]\n",
    "    texts_out = []\n",
    "    nlp = spacy.load('en_core_web_sm', disable=['parser', 'ner'])\n",
    "    for sent in texts:\n",
    "        doc = nlp(\" \".join(sent)) \n",
    "        texts_out.append([token.lemma_ for token in doc if token.pos_ in allowed_postags])\n",
    "    texts_out = [[word for word in simple_preprocess(str(doc), max_len=20) if word not in stop_words] for doc in texts_out] \n",
    "    return texts_out\n",
    "\n",
    "tokens = process_words(words)\n",
    "\n",
    "# Preprocess text data and create tokens\n",
    "df['tokens'] = tokens\n",
    "df.head()"
   ]
  },
  {
   "cell_type": "code",
   "execution_count": null,
   "id": "4e1bd6bd",
   "metadata": {},
   "outputs": [],
   "source": [
    "# Save preprocessed text data with tokens\n",
    "df.to_csv('cleaned-dataset.csv', index=False, encoding='utf-8-sig')"
   ]
  }
 ],
 "metadata": {
  "kernelspec": {
   "display_name": "Python 3",
   "language": "python",
   "name": "python3"
  },
  "language_info": {
   "codemirror_mode": {
    "name": "ipython",
    "version": 3
   },
   "file_extension": ".py",
   "mimetype": "text/x-python",
   "name": "python",
   "nbconvert_exporter": "python",
   "pygments_lexer": "ipython3",
   "version": "3.8.8"
  }
 },
 "nbformat": 4,
 "nbformat_minor": 5
}
